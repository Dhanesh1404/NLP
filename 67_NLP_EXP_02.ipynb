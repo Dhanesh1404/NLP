{
  "nbformat": 4,
  "nbformat_minor": 0,
  "metadata": {
    "colab": {
      "provenance": []
    },
    "kernelspec": {
      "name": "python3",
      "display_name": "Python 3"
    },
    "language_info": {
      "name": "python"
    }
  },
  "cells": [
    {
      "cell_type": "markdown",
      "source": [
        "**Library required for Preprocessing**"
      ],
      "metadata": {
        "id": "2EaWnz8S5ncY"
      }
    },
    {
      "cell_type": "code",
      "execution_count": 1,
      "metadata": {
        "colab": {
          "base_uri": "https://localhost:8080/"
        },
        "id": "K-VDpkHx12vl",
        "outputId": "6338ee26-8f8a-4372-c47b-9d86bd93cacc"
      },
      "outputs": [
        {
          "output_type": "stream",
          "name": "stdout",
          "text": [
            "Requirement already satisfied: nltk in /usr/local/lib/python3.10/dist-packages (3.8.1)\n",
            "Requirement already satisfied: click in /usr/local/lib/python3.10/dist-packages (from nltk) (8.1.6)\n",
            "Requirement already satisfied: joblib in /usr/local/lib/python3.10/dist-packages (from nltk) (1.3.2)\n",
            "Requirement already satisfied: regex>=2021.8.3 in /usr/local/lib/python3.10/dist-packages (from nltk) (2023.6.3)\n",
            "Requirement already satisfied: tqdm in /usr/local/lib/python3.10/dist-packages (from nltk) (4.66.1)\n"
          ]
        }
      ],
      "source": [
        "!pip install nltk\n"
      ]
    },
    {
      "cell_type": "code",
      "source": [
        "import nltk"
      ],
      "metadata": {
        "id": "g6aDFTZn2nji"
      },
      "execution_count": 2,
      "outputs": []
    },
    {
      "cell_type": "code",
      "source": [
        "nltk.download()"
      ],
      "metadata": {
        "colab": {
          "base_uri": "https://localhost:8080/"
        },
        "id": "pA4tW2aG2uQ4",
        "outputId": "d37188cb-58f9-48de-cfb7-a8135fc1f1b6"
      },
      "execution_count": 3,
      "outputs": [
        {
          "name": "stdout",
          "output_type": "stream",
          "text": [
            "NLTK Downloader\n",
            "---------------------------------------------------------------------------\n",
            "    d) Download   l) List    u) Update   c) Config   h) Help   q) Quit\n",
            "---------------------------------------------------------------------------\n",
            "Downloader> d\n",
            "\n",
            "Download which package (l=list; x=cancel)?\n",
            "  Identifier> punkt\n"
          ]
        },
        {
          "output_type": "stream",
          "name": "stderr",
          "text": [
            "    Downloading package punkt to /root/nltk_data...\n",
            "      Unzipping tokenizers/punkt.zip.\n"
          ]
        },
        {
          "name": "stdout",
          "output_type": "stream",
          "text": [
            "\n",
            "---------------------------------------------------------------------------\n",
            "    d) Download   l) List    u) Update   c) Config   h) Help   q) Quit\n",
            "---------------------------------------------------------------------------\n",
            "Downloader> q\n"
          ]
        },
        {
          "output_type": "execute_result",
          "data": {
            "text/plain": [
              "True"
            ]
          },
          "metadata": {},
          "execution_count": 3
        }
      ]
    },
    {
      "cell_type": "markdown",
      "source": [
        "**Sentence Tokenization**"
      ],
      "metadata": {
        "id": "2OlitliN5iW4"
      }
    },
    {
      "cell_type": "code",
      "source": [
        "from nltk.tokenize import sent_tokenize"
      ],
      "metadata": {
        "id": "dBs-RtfE25FZ"
      },
      "execution_count": 4,
      "outputs": []
    },
    {
      "cell_type": "code",
      "source": [
        "text = '''Chhatrapati Shivaji Maharaj was the founder of the Maratha Empire. He was born in the Shivneri Fort in Maharashtra on 19 February 1630 to mother Raajmata Jijabai yadav and father Shri.Shahajiraje Bhosale. It is said that mother Jijabai prayed to Lord Shiva in Shivneri Fort for a brave son and kept her son name as Shivaji after the Hindu god Shiva'''"
      ],
      "metadata": {
        "id": "cYUy0BNW2_2J"
      },
      "execution_count": 5,
      "outputs": []
    },
    {
      "cell_type": "code",
      "source": [
        "text"
      ],
      "metadata": {
        "colab": {
          "base_uri": "https://localhost:8080/",
          "height": 70
        },
        "id": "wWI5WyYQ3l5I",
        "outputId": "49f9e10b-9dca-44c7-8951-95e9980370cd"
      },
      "execution_count": 6,
      "outputs": [
        {
          "output_type": "execute_result",
          "data": {
            "text/plain": [
              "'Chhatrapati Shivaji Maharaj was the founder of the Maratha Empire. He was born in the Shivneri Fort in Maharashtra on 19 February 1630 to mother Raajmata Jijabai yadav and father Shri.Shahajiraje Bhosale. It is said that mother Jijabai prayed to Lord Shiva in Shivneri Fort for a brave son and kept her son name as Shivaji after the Hindu god Shiva'"
            ],
            "application/vnd.google.colaboratory.intrinsic+json": {
              "type": "string"
            }
          },
          "metadata": {},
          "execution_count": 6
        }
      ]
    },
    {
      "cell_type": "code",
      "source": [
        "sentences = sent_tokenize (text)"
      ],
      "metadata": {
        "id": "BxqeGbSU3uux"
      },
      "execution_count": 7,
      "outputs": []
    },
    {
      "cell_type": "code",
      "source": [
        "sentences"
      ],
      "metadata": {
        "colab": {
          "base_uri": "https://localhost:8080/"
        },
        "id": "mbST39zH3xQw",
        "outputId": "1fa3d7ca-e4f7-49b0-d04b-32ed8e51197c"
      },
      "execution_count": 8,
      "outputs": [
        {
          "output_type": "execute_result",
          "data": {
            "text/plain": [
              "['Chhatrapati Shivaji Maharaj was the founder of the Maratha Empire.',\n",
              " 'He was born in the Shivneri Fort in Maharashtra on 19 February 1630 to mother Raajmata Jijabai yadav and father Shri.Shahajiraje Bhosale.',\n",
              " 'It is said that mother Jijabai prayed to Lord Shiva in Shivneri Fort for a brave son and kept her son name as Shivaji after the Hindu god Shiva']"
            ]
          },
          "metadata": {},
          "execution_count": 8
        }
      ]
    },
    {
      "cell_type": "markdown",
      "source": [
        "**Word Tokenization**"
      ],
      "metadata": {
        "id": "CksY1ade4A5R"
      }
    },
    {
      "cell_type": "code",
      "source": [
        "from nltk.tokenize import word_tokenize"
      ],
      "metadata": {
        "id": "hCDR5mXE4N7h"
      },
      "execution_count": 9,
      "outputs": []
    },
    {
      "cell_type": "code",
      "source": [
        "words = word_tokenize (text)"
      ],
      "metadata": {
        "id": "ZkwLO2SL4V_I"
      },
      "execution_count": 10,
      "outputs": []
    },
    {
      "cell_type": "code",
      "source": [
        "words"
      ],
      "metadata": {
        "colab": {
          "base_uri": "https://localhost:8080/"
        },
        "id": "Ux8Tt7Bs4ZVg",
        "outputId": "7f705d48-9c76-4e33-ba0d-d2cc4518b935"
      },
      "execution_count": 11,
      "outputs": [
        {
          "output_type": "execute_result",
          "data": {
            "text/plain": [
              "['Chhatrapati',\n",
              " 'Shivaji',\n",
              " 'Maharaj',\n",
              " 'was',\n",
              " 'the',\n",
              " 'founder',\n",
              " 'of',\n",
              " 'the',\n",
              " 'Maratha',\n",
              " 'Empire',\n",
              " '.',\n",
              " 'He',\n",
              " 'was',\n",
              " 'born',\n",
              " 'in',\n",
              " 'the',\n",
              " 'Shivneri',\n",
              " 'Fort',\n",
              " 'in',\n",
              " 'Maharashtra',\n",
              " 'on',\n",
              " '19',\n",
              " 'February',\n",
              " '1630',\n",
              " 'to',\n",
              " 'mother',\n",
              " 'Raajmata',\n",
              " 'Jijabai',\n",
              " 'yadav',\n",
              " 'and',\n",
              " 'father',\n",
              " 'Shri.Shahajiraje',\n",
              " 'Bhosale',\n",
              " '.',\n",
              " 'It',\n",
              " 'is',\n",
              " 'said',\n",
              " 'that',\n",
              " 'mother',\n",
              " 'Jijabai',\n",
              " 'prayed',\n",
              " 'to',\n",
              " 'Lord',\n",
              " 'Shiva',\n",
              " 'in',\n",
              " 'Shivneri',\n",
              " 'Fort',\n",
              " 'for',\n",
              " 'a',\n",
              " 'brave',\n",
              " 'son',\n",
              " 'and',\n",
              " 'kept',\n",
              " 'her',\n",
              " 'son',\n",
              " 'name',\n",
              " 'as',\n",
              " 'Shivaji',\n",
              " 'after',\n",
              " 'the',\n",
              " 'Hindu',\n",
              " 'god',\n",
              " 'Shiva']"
            ]
          },
          "metadata": {},
          "execution_count": 11
        }
      ]
    },
    {
      "cell_type": "code",
      "source": [
        "for w in words:\n",
        "    print (w)"
      ],
      "metadata": {
        "colab": {
          "base_uri": "https://localhost:8080/"
        },
        "id": "3B8j_VvV4b_X",
        "outputId": "48886fea-acdc-4ce8-ea92-01c136764729"
      },
      "execution_count": 12,
      "outputs": [
        {
          "output_type": "stream",
          "name": "stdout",
          "text": [
            "Chhatrapati\n",
            "Shivaji\n",
            "Maharaj\n",
            "was\n",
            "the\n",
            "founder\n",
            "of\n",
            "the\n",
            "Maratha\n",
            "Empire\n",
            ".\n",
            "He\n",
            "was\n",
            "born\n",
            "in\n",
            "the\n",
            "Shivneri\n",
            "Fort\n",
            "in\n",
            "Maharashtra\n",
            "on\n",
            "19\n",
            "February\n",
            "1630\n",
            "to\n",
            "mother\n",
            "Raajmata\n",
            "Jijabai\n",
            "yadav\n",
            "and\n",
            "father\n",
            "Shri.Shahajiraje\n",
            "Bhosale\n",
            ".\n",
            "It\n",
            "is\n",
            "said\n",
            "that\n",
            "mother\n",
            "Jijabai\n",
            "prayed\n",
            "to\n",
            "Lord\n",
            "Shiva\n",
            "in\n",
            "Shivneri\n",
            "Fort\n",
            "for\n",
            "a\n",
            "brave\n",
            "son\n",
            "and\n",
            "kept\n",
            "her\n",
            "son\n",
            "name\n",
            "as\n",
            "Shivaji\n",
            "after\n",
            "the\n",
            "Hindu\n",
            "god\n",
            "Shiva\n"
          ]
        }
      ]
    },
    {
      "cell_type": "markdown",
      "source": [
        "**Levels of Sentences Tokenization using Comprehension**"
      ],
      "metadata": {
        "id": "Z9VfA9R34iev"
      }
    },
    {
      "cell_type": "code",
      "source": [
        "sent_tokenize (text)"
      ],
      "metadata": {
        "colab": {
          "base_uri": "https://localhost:8080/"
        },
        "id": "0827IB4i4s8A",
        "outputId": "01e68e21-de54-4e2c-ad89-07182adf3fce"
      },
      "execution_count": 13,
      "outputs": [
        {
          "output_type": "execute_result",
          "data": {
            "text/plain": [
              "['Chhatrapati Shivaji Maharaj was the founder of the Maratha Empire.',\n",
              " 'He was born in the Shivneri Fort in Maharashtra on 19 February 1630 to mother Raajmata Jijabai yadav and father Shri.Shahajiraje Bhosale.',\n",
              " 'It is said that mother Jijabai prayed to Lord Shiva in Shivneri Fort for a brave son and kept her son name as Shivaji after the Hindu god Shiva']"
            ]
          },
          "metadata": {},
          "execution_count": 13
        }
      ]
    },
    {
      "cell_type": "code",
      "source": [
        "[word_tokenize (text) for t in sent_tokenize(text)]"
      ],
      "metadata": {
        "colab": {
          "base_uri": "https://localhost:8080/"
        },
        "id": "qQLARUUR4zUo",
        "outputId": "c84142c5-3b00-455d-d5bc-21fff30e3c27"
      },
      "execution_count": 14,
      "outputs": [
        {
          "output_type": "execute_result",
          "data": {
            "text/plain": [
              "[['Chhatrapati',\n",
              "  'Shivaji',\n",
              "  'Maharaj',\n",
              "  'was',\n",
              "  'the',\n",
              "  'founder',\n",
              "  'of',\n",
              "  'the',\n",
              "  'Maratha',\n",
              "  'Empire',\n",
              "  '.',\n",
              "  'He',\n",
              "  'was',\n",
              "  'born',\n",
              "  'in',\n",
              "  'the',\n",
              "  'Shivneri',\n",
              "  'Fort',\n",
              "  'in',\n",
              "  'Maharashtra',\n",
              "  'on',\n",
              "  '19',\n",
              "  'February',\n",
              "  '1630',\n",
              "  'to',\n",
              "  'mother',\n",
              "  'Raajmata',\n",
              "  'Jijabai',\n",
              "  'yadav',\n",
              "  'and',\n",
              "  'father',\n",
              "  'Shri.Shahajiraje',\n",
              "  'Bhosale',\n",
              "  '.',\n",
              "  'It',\n",
              "  'is',\n",
              "  'said',\n",
              "  'that',\n",
              "  'mother',\n",
              "  'Jijabai',\n",
              "  'prayed',\n",
              "  'to',\n",
              "  'Lord',\n",
              "  'Shiva',\n",
              "  'in',\n",
              "  'Shivneri',\n",
              "  'Fort',\n",
              "  'for',\n",
              "  'a',\n",
              "  'brave',\n",
              "  'son',\n",
              "  'and',\n",
              "  'kept',\n",
              "  'her',\n",
              "  'son',\n",
              "  'name',\n",
              "  'as',\n",
              "  'Shivaji',\n",
              "  'after',\n",
              "  'the',\n",
              "  'Hindu',\n",
              "  'god',\n",
              "  'Shiva'],\n",
              " ['Chhatrapati',\n",
              "  'Shivaji',\n",
              "  'Maharaj',\n",
              "  'was',\n",
              "  'the',\n",
              "  'founder',\n",
              "  'of',\n",
              "  'the',\n",
              "  'Maratha',\n",
              "  'Empire',\n",
              "  '.',\n",
              "  'He',\n",
              "  'was',\n",
              "  'born',\n",
              "  'in',\n",
              "  'the',\n",
              "  'Shivneri',\n",
              "  'Fort',\n",
              "  'in',\n",
              "  'Maharashtra',\n",
              "  'on',\n",
              "  '19',\n",
              "  'February',\n",
              "  '1630',\n",
              "  'to',\n",
              "  'mother',\n",
              "  'Raajmata',\n",
              "  'Jijabai',\n",
              "  'yadav',\n",
              "  'and',\n",
              "  'father',\n",
              "  'Shri.Shahajiraje',\n",
              "  'Bhosale',\n",
              "  '.',\n",
              "  'It',\n",
              "  'is',\n",
              "  'said',\n",
              "  'that',\n",
              "  'mother',\n",
              "  'Jijabai',\n",
              "  'prayed',\n",
              "  'to',\n",
              "  'Lord',\n",
              "  'Shiva',\n",
              "  'in',\n",
              "  'Shivneri',\n",
              "  'Fort',\n",
              "  'for',\n",
              "  'a',\n",
              "  'brave',\n",
              "  'son',\n",
              "  'and',\n",
              "  'kept',\n",
              "  'her',\n",
              "  'son',\n",
              "  'name',\n",
              "  'as',\n",
              "  'Shivaji',\n",
              "  'after',\n",
              "  'the',\n",
              "  'Hindu',\n",
              "  'god',\n",
              "  'Shiva'],\n",
              " ['Chhatrapati',\n",
              "  'Shivaji',\n",
              "  'Maharaj',\n",
              "  'was',\n",
              "  'the',\n",
              "  'founder',\n",
              "  'of',\n",
              "  'the',\n",
              "  'Maratha',\n",
              "  'Empire',\n",
              "  '.',\n",
              "  'He',\n",
              "  'was',\n",
              "  'born',\n",
              "  'in',\n",
              "  'the',\n",
              "  'Shivneri',\n",
              "  'Fort',\n",
              "  'in',\n",
              "  'Maharashtra',\n",
              "  'on',\n",
              "  '19',\n",
              "  'February',\n",
              "  '1630',\n",
              "  'to',\n",
              "  'mother',\n",
              "  'Raajmata',\n",
              "  'Jijabai',\n",
              "  'yadav',\n",
              "  'and',\n",
              "  'father',\n",
              "  'Shri.Shahajiraje',\n",
              "  'Bhosale',\n",
              "  '.',\n",
              "  'It',\n",
              "  'is',\n",
              "  'said',\n",
              "  'that',\n",
              "  'mother',\n",
              "  'Jijabai',\n",
              "  'prayed',\n",
              "  'to',\n",
              "  'Lord',\n",
              "  'Shiva',\n",
              "  'in',\n",
              "  'Shivneri',\n",
              "  'Fort',\n",
              "  'for',\n",
              "  'a',\n",
              "  'brave',\n",
              "  'son',\n",
              "  'and',\n",
              "  'kept',\n",
              "  'her',\n",
              "  'son',\n",
              "  'name',\n",
              "  'as',\n",
              "  'Shivaji',\n",
              "  'after',\n",
              "  'the',\n",
              "  'Hindu',\n",
              "  'god',\n",
              "  'Shiva']]"
            ]
          },
          "metadata": {},
          "execution_count": 14
        }
      ]
    },
    {
      "cell_type": "code",
      "source": [
        "from nltk.tokenize import wordpunct_tokenize"
      ],
      "metadata": {
        "id": "cgwXfGq444G5"
      },
      "execution_count": 15,
      "outputs": []
    },
    {
      "cell_type": "code",
      "source": [
        "wordpunct_tokenize (text)"
      ],
      "metadata": {
        "colab": {
          "base_uri": "https://localhost:8080/"
        },
        "id": "lua8GoRp4-to",
        "outputId": "2f311fef-32bd-4cdd-e6f2-4dde19ac333a"
      },
      "execution_count": 16,
      "outputs": [
        {
          "output_type": "execute_result",
          "data": {
            "text/plain": [
              "['Chhatrapati',\n",
              " 'Shivaji',\n",
              " 'Maharaj',\n",
              " 'was',\n",
              " 'the',\n",
              " 'founder',\n",
              " 'of',\n",
              " 'the',\n",
              " 'Maratha',\n",
              " 'Empire',\n",
              " '.',\n",
              " 'He',\n",
              " 'was',\n",
              " 'born',\n",
              " 'in',\n",
              " 'the',\n",
              " 'Shivneri',\n",
              " 'Fort',\n",
              " 'in',\n",
              " 'Maharashtra',\n",
              " 'on',\n",
              " '19',\n",
              " 'February',\n",
              " '1630',\n",
              " 'to',\n",
              " 'mother',\n",
              " 'Raajmata',\n",
              " 'Jijabai',\n",
              " 'yadav',\n",
              " 'and',\n",
              " 'father',\n",
              " 'Shri',\n",
              " '.',\n",
              " 'Shahajiraje',\n",
              " 'Bhosale',\n",
              " '.',\n",
              " 'It',\n",
              " 'is',\n",
              " 'said',\n",
              " 'that',\n",
              " 'mother',\n",
              " 'Jijabai',\n",
              " 'prayed',\n",
              " 'to',\n",
              " 'Lord',\n",
              " 'Shiva',\n",
              " 'in',\n",
              " 'Shivneri',\n",
              " 'Fort',\n",
              " 'for',\n",
              " 'a',\n",
              " 'brave',\n",
              " 'son',\n",
              " 'and',\n",
              " 'kept',\n",
              " 'her',\n",
              " 'son',\n",
              " 'name',\n",
              " 'as',\n",
              " 'Shivaji',\n",
              " 'after',\n",
              " 'the',\n",
              " 'Hindu',\n",
              " 'god',\n",
              " 'Shiva']"
            ]
          },
          "metadata": {},
          "execution_count": 16
        }
      ]
    },
    {
      "cell_type": "markdown",
      "source": [
        "**Filteration of Text by converting into lower case**"
      ],
      "metadata": {
        "id": "3BNm3Mj75FVo"
      }
    },
    {
      "cell_type": "code",
      "source": [
        "text.lower()"
      ],
      "metadata": {
        "colab": {
          "base_uri": "https://localhost:8080/",
          "height": 70
        },
        "id": "eMqZSwZY5Ixw",
        "outputId": "983bca90-52fa-44ff-bb1f-ff00b7fdcc44"
      },
      "execution_count": 17,
      "outputs": [
        {
          "output_type": "execute_result",
          "data": {
            "text/plain": [
              "'chhatrapati shivaji maharaj was the founder of the maratha empire. he was born in the shivneri fort in maharashtra on 19 february 1630 to mother raajmata jijabai yadav and father shri.shahajiraje bhosale. it is said that mother jijabai prayed to lord shiva in shivneri fort for a brave son and kept her son name as shivaji after the hindu god shiva'"
            ],
            "application/vnd.google.colaboratory.intrinsic+json": {
              "type": "string"
            }
          },
          "metadata": {},
          "execution_count": 17
        }
      ]
    },
    {
      "cell_type": "code",
      "source": [
        "text.upper()"
      ],
      "metadata": {
        "colab": {
          "base_uri": "https://localhost:8080/",
          "height": 70
        },
        "id": "mpSsVz1d5QTg",
        "outputId": "0edbf747-f6ee-4f2c-ce5b-922f13ddd6df"
      },
      "execution_count": 18,
      "outputs": [
        {
          "output_type": "execute_result",
          "data": {
            "text/plain": [
              "'CHHATRAPATI SHIVAJI MAHARAJ WAS THE FOUNDER OF THE MARATHA EMPIRE. HE WAS BORN IN THE SHIVNERI FORT IN MAHARASHTRA ON 19 FEBRUARY 1630 TO MOTHER RAAJMATA JIJABAI YADAV AND FATHER SHRI.SHAHAJIRAJE BHOSALE. IT IS SAID THAT MOTHER JIJABAI PRAYED TO LORD SHIVA IN SHIVNERI FORT FOR A BRAVE SON AND KEPT HER SON NAME AS SHIVAJI AFTER THE HINDU GOD SHIVA'"
            ],
            "application/vnd.google.colaboratory.intrinsic+json": {
              "type": "string"
            }
          },
          "metadata": {},
          "execution_count": 18
        }
      ]
    }
  ]
}
